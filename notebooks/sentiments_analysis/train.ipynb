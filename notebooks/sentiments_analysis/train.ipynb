{
 "cells": [
  {
   "cell_type": "code",
   "execution_count": null,
   "metadata": {},
   "outputs": [],
   "source": [
    "import pandas as pd\n",
    "from sklearn.feature_extraction.text import TfidfVectorizer\n",
    "from sklearn.linear_model import LogisticRegression\n",
    "from sklearn.pipeline import make_pipeline\n",
    "import os\n",
    "import joblib\n",
    "\n",
    "base_path = os.path.dirname(os.path.abspath(__file__))\n",
    "\n",
    "# Load dataset and select only 'text' and 'sentiment' columns\n",
    "df = pd.read_csv(os.path.join(base_path, '../dataset', 'train.csv'), encoding='cp1252')\n",
    "\n",
    "# Handle missing values in the 'text' column by filling them with empty strings\n",
    "df['text'] = df['text'].fillna(\"\")\n",
    "df = df[df['text'].notna()]  # Drop rows where 'text' is NaN\n",
    "df['text'] = df['text'].astype(str)  # Convert all 'text' values to strings\n",
    "\n",
    "# Log any non-string entries and remove them\n",
    "non_string_entries = df[df['text'].apply(lambda x: not isinstance(x, str))]\n",
    "if not non_string_entries.empty:\n",
    "    print(\"Warning: The following rows have non-string 'text' entries and will be removed:\\n\", non_string_entries)\n",
    "    df = df[df['text'].apply(lambda x: isinstance(x, str))]\n",
    "# Create a pipeline for text processing and model training\n",
    "pipeline = make_pipeline(\n",
    "    TfidfVectorizer(),\n",
    "    LogisticRegression()\n",
    ")\n",
    "\n",
    "# Train the model on the training data\n",
    "pipeline.fit(df['text'], df['sentiment'])\n",
    "\n",
    "# Save the model\n",
    "joblib.dump(pipeline, 'src/models/text_sentiment_model.pkl')\n",
    "\n",
    "print(\"Model saved in 'text_sentiment_model.pkl'\")"
   ]
  }
 ],
 "metadata": {
  "language_info": {
   "name": "python"
  }
 },
 "nbformat": 4,
 "nbformat_minor": 2
}
